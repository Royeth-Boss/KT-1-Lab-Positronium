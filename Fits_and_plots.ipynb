{
 "cells": [
  {
   "cell_type": "code",
   "id": "initial_id",
   "metadata": {
    "collapsed": true,
    "ExecuteTime": {
     "end_time": "2025-10-27T13:39:09.391374Z",
     "start_time": "2025-10-27T13:39:09.383952Z"
    }
   },
   "source": "print(\"Hello World\")",
   "outputs": [
    {
     "name": "stdout",
     "output_type": "stream",
     "text": [
      "Hello World\n"
     ]
    }
   ],
   "execution_count": 1
  },
  {
   "metadata": {
    "ExecuteTime": {
     "end_time": "2025-10-27T14:04:21.913136Z",
     "start_time": "2025-10-27T14:04:21.899328Z"
    }
   },
   "cell_type": "code",
   "source": [
    "import numpy as np\n",
    "\n",
    "def read_spe_text(filename):\n",
    "    \"\"\"Reads a text-based .Spe file and returns its contents.\"\"\"\n",
    "    with open(filename, 'r', encoding='utf-8', errors='ignore') as file:\n",
    "        content = file.read()\n",
    "    return content\n",
    "\n",
    "def read_spe_lines(filename):\n",
    "    \"\"\"\n",
    "    Reads a text-based .Spe file and returns its lines as a list.\n",
    "    Each element of the list is one line from the file (without the newline character).\n",
    "    \"\"\"\n",
    "    with open(filename, 'r', encoding='utf-8', errors='ignore') as file:\n",
    "        lines = [line.strip() for line in file.readlines()]\n",
    "    return lines\n",
    "\n",
    "def cleanup_spe_file(input_data):\n",
    "    cleaned_data = input_data[11:]\n",
    "    cleaned_array = np.array(cleaned_data)\n",
    "    return cleaned_data\n",
    "\n",
    "filepath = \"/Users/angelobossi/PycharmProjects/KT 1 Lab Positronium/Monday_Energy_left_1275_gate.Spe\"\n",
    "raw_data = read_spe_text(filepath)\n",
    "\n",
    "raw_data_lines = read_spe_lines(filepath)\n",
    "data = cleanup_spe_file(raw_data_lines)\n",
    "\n",
    "print(data[:100])\n",
    "print(type(data))"
   ],
   "id": "4eb31aa860eb5cae",
   "outputs": [
    {
     "ename": "ModuleNotFoundError",
     "evalue": "No module named 'numpy'",
     "output_type": "error",
     "traceback": [
      "\u001B[0;31m---------------------------------------------------------------------------\u001B[0m",
      "\u001B[0;31mModuleNotFoundError\u001B[0m                       Traceback (most recent call last)",
      "Cell \u001B[0;32mIn[14], line 1\u001B[0m\n\u001B[0;32m----> 1\u001B[0m \u001B[38;5;28;01mimport\u001B[39;00m\u001B[38;5;250m \u001B[39m\u001B[38;5;21;01mnumpy\u001B[39;00m\u001B[38;5;250m \u001B[39m\u001B[38;5;28;01mas\u001B[39;00m\u001B[38;5;250m \u001B[39m\u001B[38;5;21;01mnp\u001B[39;00m\n\u001B[1;32m      3\u001B[0m \u001B[38;5;28;01mdef\u001B[39;00m\u001B[38;5;250m \u001B[39m\u001B[38;5;21mread_spe_text\u001B[39m(filename):\n\u001B[1;32m      4\u001B[0m \u001B[38;5;250m    \u001B[39m\u001B[38;5;124;03m\"\"\"Reads a text-based .Spe file and returns its contents.\"\"\"\u001B[39;00m\n",
      "\u001B[0;31mModuleNotFoundError\u001B[0m: No module named 'numpy'"
     ]
    }
   ],
   "execution_count": 14
  },
  {
   "metadata": {},
   "cell_type": "code",
   "outputs": [],
   "execution_count": null,
   "source": "",
   "id": "d96a15bcc7c2c9fb"
  }
 ],
 "metadata": {
  "kernelspec": {
   "display_name": "Python 3",
   "language": "python",
   "name": "python3"
  },
  "language_info": {
   "codemirror_mode": {
    "name": "ipython",
    "version": 2
   },
   "file_extension": ".py",
   "mimetype": "text/x-python",
   "name": "python",
   "nbconvert_exporter": "python",
   "pygments_lexer": "ipython2",
   "version": "2.7.6"
  }
 },
 "nbformat": 4,
 "nbformat_minor": 5
}
